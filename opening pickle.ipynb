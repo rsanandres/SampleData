{
 "cells": [
  {
   "cell_type": "code",
   "execution_count": 4,
   "metadata": {},
   "outputs": [
    {
     "name": "stdout",
     "output_type": "stream",
     "text": [
      "Liberal examples (out of  50  sentences): \n",
      "First , government plays an important role through such policies as family and housing allowances , universal health care , pensions , and tax credits .\n",
      "And `` once we think positively about the State as a source of legitimate , useful activity , '' why , we can get about the serious business of the state paying `` those people performing useful labor in families , mothers caring for children , adults caring for aged parents .\n",
      "The narrow-minded rationality of the capitalist market , with its short-term calculus of profit and loss , is intrinsically contradictory to the rationality of the living environment , which operates in terms of long , natural cycles . ''\n",
      "The resulting global warming kills Amazonian trees through a combination of increased temperature and decreased rainfall .\n",
      "If evolution is improvement and improvement is good , and if the good of the many outweighs the good of the few , it makes sense to facilitate evolution .\n",
      "\n",
      "Conservative examples (out of  50  sentences): \n",
      "The old welfare program , Aid to Families with Dependent Children , too often failed to honor this core value , which helps explain not only its unpopularity with the public but also why it often isolated the very people it was supposed to help .\n",
      "It is that they hate other things more : economic phenomena like profits , competition , and all the tensions and conflicts which threaten constantly to erupt from the marketplace .\n",
      "Take , for instance , his argument against health care : `` The Founders could have written it in the original Constitution -- they had health care problems back then , too -- but they knew the answer was private , not the government .\n",
      "One thing is certain , however ; if a private company or a state or local agency had caused even a tiny fraction of the damage that the EPA has caused through its MTBE fiasco , it would be facing serious punitive damages and civil penalties , if not criminal charges .\n",
      "To moderate the pain of paying high gas prices , the Obama administration plans to confiscate a `` reasonable share '' ( you might guess who is to determine what is `` reasonable '' ) of record-breaking `` windfall profits '' of the oil companies and give it to American families as an `` emergency energy rebate .\n",
      "\n",
      "Neutral examples (out of  50  sentences): \n",
      "This problem is exacerbated because using your Social Security account number or birth date as a password is a great convenience for them .\n",
      "Some may protest that he is only playing himself , without appreciating how difficult that unique acting challenge can be .\n",
      "( ... ) according to the Rape , Abuse and Incest National Network , one in six American women is a survivor of rape or attempted rape .\n",
      "Medical debt is a problem in its infancy , and the entry of well-established banks along with new upstarts offering credit cards and credit lines creates the potential for exploitation and abuse .\n",
      "But there are moments of strange , otherworldly naivete , as when Kafka , in a paper on setting insurance premiums and the need to convince employers of the Institute 's prudence , opines that `` a handsome sum is certainly appropriate as compensation for accidents that have serious consequences , and no employer will even consider advocating parsimony in such cases .\n",
      "\n",
      "Phrase labels for one tree: \n",
      "Liberal :  First , government plays an important role through such policies as family and housing allowances , universal health care , pensions , and tax credits .\n",
      "Liberal :  plays an important role through such policies as family and housing allowances , universal health care , pensions , and tax credits\n",
      "Liberal :  such policies as family and housing allowances , universal health care , pensions , and tax credits\n",
      "Liberal :  family and housing allowances , universal health care , pensions , and tax credits\n",
      "Neutral :  tax credits\n"
     ]
    }
   ],
   "source": [
    "import pickle\n",
    "\n",
    "if __name__ == '__main__':\n",
    "    [lib, con, neutral] = pickle.load(open('sampleData.pkl', 'rb'))\n",
    "\n",
    "    # how to access sentence text\n",
    "    print ('Liberal examples (out of ', len(lib), ' sentences): ')\n",
    "    for tree in lib[0:5]:\n",
    "        print (tree.get_words())\n",
    "    print ('\\nConservative examples (out of ', len(con), ' sentences): ')\n",
    "    for tree in con[0:5]:\n",
    "        print (tree.get_words())\n",
    "\n",
    "    print ('\\nNeutral examples (out of ', len(neutral), ' sentences): ')\n",
    "    for tree in neutral[0:5]:\n",
    "        print (tree.get_words())\n",
    "\n",
    "    # how to access phrase labels for a particular tree\n",
    "    ex_tree = lib[0]\n",
    "\n",
    "    print ('\\nPhrase labels for one tree: ')\n",
    "\n",
    "    # see treeUtil.py for the tree class definition\n",
    "    for node in ex_tree:\n",
    "\n",
    "        # remember, only certain nodes have labels (see paper for details)\n",
    "        if hasattr(node, 'label'):\n",
    "            print (node.label, ': ', node.get_words())\n",
    "\n"
   ]
  },
  {
   "cell_type": "code",
   "execution_count": null,
   "metadata": {},
   "outputs": [],
   "source": []
  },
  {
   "cell_type": "code",
   "execution_count": null,
   "metadata": {},
   "outputs": [],
   "source": []
  }
 ],
 "metadata": {
  "kernelspec": {
   "display_name": "Python 3",
   "language": "python",
   "name": "python3"
  },
  "language_info": {
   "codemirror_mode": {
    "name": "ipython",
    "version": 3
   },
   "file_extension": ".py",
   "mimetype": "text/x-python",
   "name": "python",
   "nbconvert_exporter": "python",
   "pygments_lexer": "ipython3",
   "version": "3.7.4"
  }
 },
 "nbformat": 4,
 "nbformat_minor": 2
}
