{
 "cells": [
  {
   "cell_type": "code",
   "execution_count": null,
   "metadata": {},
   "outputs": [],
   "source": [
    "import pickle\n",
    "\n",
    "if __name__ == '__main__':\n",
    "    [lib, con, neutral] = pickle.load(open('ibcData.pkl', 'rb'))\n",
    "\n",
    "    # how to access sentence text\n",
    "    print ('Liberal examples (out of ', len(lib), ' sentences): ')\n",
    "    for tree in lib[45:55]:\n",
    "        print (tree.get_words())\n",
    "    print ('\\nConservative examples (out of ', len(con), ' sentences): ')\n",
    "    for tree in con[45:55]:\n",
    "        print (tree.get_words())\n",
    "\n",
    "    print ('\\nNeutral examples (out of ', len(neutral), ' sentences): ')\n",
    "    for tree in neutral[45:55]:\n",
    "        print (tree.get_words())\n",
    "\n",
    "    # how to access phrase labels for a particular tree\n",
    "    ex_tree = lib[45]\n",
    "\n",
    "    print ('\\nPhrase labels for one tree: ')\n",
    "\n",
    "    # see treeUtil.py for the tree class definition\n",
    "    for node in ex_tree:\n",
    "\n",
    "        # remember, only certain nodes have labels (see paper for details)\n",
    "        if hasattr(node, 'label'):\n",
    "            print (node.label, ': ', node.get_words())\n",
    "\n"
   ]
  },
  {
   "cell_type": "code",
   "execution_count": null,
   "metadata": {},
   "outputs": [],
   "source": []
  },
  {
   "cell_type": "code",
   "execution_count": null,
   "metadata": {},
   "outputs": [],
   "source": []
  }
 ],
 "metadata": {
  "kernelspec": {
   "display_name": "Python 3",
   "language": "python",
   "name": "python3"
  },
  "language_info": {
   "codemirror_mode": {
    "name": "ipython",
    "version": 3
   },
   "file_extension": ".py",
   "mimetype": "text/x-python",
   "name": "python",
   "nbconvert_exporter": "python",
   "pygments_lexer": "ipython3",
   "version": "3.7.4"
  }
 },
 "nbformat": 4,
 "nbformat_minor": 2
}
